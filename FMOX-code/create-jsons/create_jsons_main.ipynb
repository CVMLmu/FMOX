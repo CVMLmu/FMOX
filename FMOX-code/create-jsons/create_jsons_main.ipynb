{
 "cells": [
  {
   "cell_type": "markdown",
   "id": "da6d2828-29ed-4896-81aa-5fa9351fb7ed",
   "metadata": {},
   "source": [
    "# Create  FMOX JSON Files"
   ]
  },
  {
   "cell_type": "code",
   "execution_count": null,
   "id": "b165aab2",
   "metadata": {},
   "outputs": [],
   "source": [
    "import os\n",
    "import sys\n",
    "import json\n",
    "from pathlib import Path"
   ]
  },
  {
   "cell_type": "code",
   "execution_count": null,
   "id": "82e69e95",
   "metadata": {},
   "outputs": [],
   "source": [
    "script_name = 'download_datasets'\n",
    "# Define the path to the parent script\n",
    "script_path = os.path.abspath(os.path.join(os.path.dirname(__file__), '..', f'{script_name}.py'))\n",
    "# Check if the script exists\n",
    "if not os.path.isfile(script_path):\n",
    "    print(f\"Script not found: {script_path}\")\n",
    "else:\n",
    "    # Add the parent directory to the Python path\n",
    "    parent_dir = os.path.dirname(script_path)\n",
    "    sys.path.append(parent_dir)\n",
    "    try:\n",
    "        import download_datasets\n",
    "        print(\"Module imported successfully.\")\n",
    "    except ImportError as e:\n",
    "        print(f\"Error importing module: {e}\")"
   ]
  },
  {
   "cell_type": "code",
   "execution_count": null,
   "id": "252cfafc",
   "metadata": {},
   "outputs": [],
   "source": [
    "# import download_datasets\n",
    "import create_fmov2_json\n",
    "import create_tbd_json\n",
    "import dataset_loader.create_json_via_benchmark_loader as fmo_data_loader\n",
    "import rle_to_seg_mask_img"
   ]
  },
  {
   "cell_type": "markdown",
   "id": "7f6dfceb-7a42-48dc-88ea-ad0d3936dd03",
   "metadata": {},
   "source": [
    "### Check if the dataset is not downloaded; if it is not, proceed to download it."
   ]
  },
  {
   "cell_type": "code",
   "execution_count": null,
   "id": "683e79a0-d290-42a4-8068-e3d764d95831",
   "metadata": {},
   "outputs": [],
   "source": [
    "\"\"\" The dataset is downloaded and extracted into a folder named \"Original_Dataset\". \"\"\"\n",
    "data_path = Path('../Original_Dataset')\n",
    "if not data_path.exists():  # Check if the directory exists\n",
    "    download_datasets.download_unzip_data(data_path)\n",
    "else:\n",
    "    # Check if the directory has files\n",
    "    if list(data_path.iterdir()):  # folder is not empty, so pass\n",
    "        pass\n",
    "    else:\n",
    "        download_datasets.download_unzip_data(data_path)\n",
    "\n",
    "# Ensure the output directory exists\n",
    "fmox_json_path = \"../FMOX-Jsons\"\n",
    "os.makedirs(os.path.dirname(fmox_json_path), exist_ok=True)"
   ]
  },
  {
   "cell_type": "markdown",
   "id": "bbeb4bd9-08dd-495f-bf61-ec0eb8df8741",
   "metadata": {},
   "source": [
    "### Create FMOv2 JSON Annotation File"
   ]
  },
  {
   "cell_type": "code",
   "execution_count": null,
   "id": "50773729-3d07-4628-86ec-f90fda0b921f",
   "metadata": {},
   "outputs": [],
   "source": [
    "\"\"\" Contour detection is applied to the segmentation mask images to obtain bounding boxes. \n",
    "While obtaining the bounding boxes, object size labels are calculated and saved in a JSON file. \"\"\"\n",
    "\n",
    "create_fmov2_json.get_fmov2_json()"
   ]
  },
  {
   "cell_type": "markdown",
   "id": "70046a02-5e83-4d17-9361-d35a23f749ac",
   "metadata": {},
   "source": [
    "### Create TbD JSON Annotation File"
   ]
  },
  {
   "cell_type": "code",
   "execution_count": null,
   "id": "c9bad0d7-d471-41c3-9565-7e7a58b8f6b1",
   "metadata": {},
   "outputs": [],
   "source": [
    "\"\"\" Ground-truth trajectory text files (gt.txt) used to obtain the bounding boxes for whole sequence of frames. \n",
    " To obtain only FMO bounding boxes; please use code which provided for Falling Object, TbD-3D Datasets. \n",
    " While obtaining the bounding boxes, object size labels are calculated and saved in a JSON file. \"\"\"\n",
    "\n",
    "create_tbd_json.get_tbd_json()"
   ]
  },
  {
   "cell_type": "markdown",
   "id": "9c6bc620-bca3-4f58-9e07-3e34e196774f",
   "metadata": {},
   "source": [
    "### Create JSON Annotation File For Falling Object, TbD-3D Datasets"
   ]
  },
  {
   "cell_type": "code",
   "execution_count": null,
   "id": "8d132459-51fd-467c-9760-53e5f1ac9720",
   "metadata": {},
   "outputs": [],
   "source": [
    "\"\"\" - Acknowledgments: The code is provided (in \"dataset_loader\" folder) adapted from the \n",
    "https://github.com/rozumden/fmo-deblurring-benchmark and some modifications made to fit our\n",
    "specific use case. For more details, please visit the repository.\n",
    "- However if you want to regenerate it, please refer below file:\"\"\"\n",
    "\n",
    "fmo_data_loader.create_json()"
   ]
  },
  {
   "cell_type": "markdown",
   "id": "a8e6b003-3e9c-4ca8-a1d9-f23365b5463f",
   "metadata": {},
   "source": [
    "### Combine JSONS - create FMOX_All4.json"
   ]
  },
  {
   "cell_type": "code",
   "execution_count": null,
   "id": "c662b734",
   "metadata": {},
   "outputs": [],
   "source": [
    "json_files = ['../FMOX-Jsons/FMOX_fall_and_tbd3d.json',\n",
    "              '../FMOX-Jsons/FMOX_fmov2.json',\n",
    "              '../FMOX-Jsons/FMOX_tbd.json']\n",
    "\n",
    "fmox_all4_json_path = '../FMOX-Jsons/FMOX_All4.json'\n",
    "combined_databases = []\n",
    "\n",
    "for json_file in json_files:\n",
    "    try:\n",
    "        with open(json_file, 'r') as file:\n",
    "            data = json.load(file)\n",
    "            combined_databases.extend(data.get('databases', []))  # Use .get to avoid KeyError\n",
    "\n",
    "    except json.JSONDecodeError as e:\n",
    "        print(f\"Error decoding JSON in file {json_file}: {e}\")\n",
    "        return\n",
    "    except FileNotFoundError as e:\n",
    "        print(f\"File not found: {json_file}. Error: {e}\")\n",
    "        return\n",
    "\n",
    "combined_data = {\"databases\": combined_databases}  # Create a new combined structure\n",
    "\n",
    "with open(fmox_all4_json_path, 'w') as json_file:\n",
    "    json.dump(combined_data, json_file, indent=4)\n",
    "\n",
    "print(f\"Combined FMOX JSON saved to: {fmox_all4_json_path}\")\n"
   ]
  },
  {
   "cell_type": "markdown",
   "id": "17cf433c-b81e-42ec-bd97-e73eeb3874ee",
   "metadata": {},
   "source": [
    "### Convert FMOv2 Run-Length Encoded (RLE) Text Files to Mask Images (Masks already provided - could be useful if needed)"
   ]
  },
  {
   "cell_type": "code",
   "execution_count": null,
   "id": "9ce7a4e9-6f20-4f88-b594-54932cab32ac",
   "metadata": {},
   "outputs": [],
   "source": [
    "\"\"\" The segmentation mask images for the FMOv2 dataset have been compressed into text files using the\n",
    "Run-Length Encoding (RLE) data compression technique. The following code can be used to convert these\n",
    "compressed files back into black and white segmentation images. \"\"\"\n",
    "\n",
    "rle_to_seg_mask_img.rle_to_mask_img()"
   ]
  }
 ],
 "metadata": {
  "jupytext": {
   "cell_metadata_filter": "-all",
   "main_language": "python",
   "notebook_metadata_filter": "-all"
  },
  "kernelspec": {
   "display_name": "Python 3 (ipykernel)",
   "language": "python",
   "name": "python3"
  },
  "language_info": {
   "codemirror_mode": {
    "name": "ipython",
    "version": 3
   },
   "file_extension": ".py",
   "mimetype": "text/x-python",
   "name": "python",
   "nbconvert_exporter": "python",
   "pygments_lexer": "ipython3",
   "version": "3.12.4"
  }
 },
 "nbformat": 4,
 "nbformat_minor": 5
}
