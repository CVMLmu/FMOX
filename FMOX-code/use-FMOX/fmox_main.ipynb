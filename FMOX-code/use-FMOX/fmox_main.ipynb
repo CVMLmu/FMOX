{
 "cells": [
  {
   "cell_type": "markdown",
   "id": "c37b228a-1ca7-4e50-a12b-791a1fe56041",
   "metadata": {},
   "source": [
    "# Use FMOX JSONs & Evaluate EfficientTAM "
   ]
  },
  {
   "cell_type": "code",
   "execution_count": null,
   "id": "80ca2387",
   "metadata": {},
   "outputs": [],
   "source": [
    "import os\n",
    "import sys\n",
    "import json\n",
    "from pathlib import Path\n",
    "import pandas as pd"
   ]
  },
  {
   "cell_type": "code",
   "execution_count": null,
   "id": "c9fbf116",
   "metadata": {},
   "outputs": [],
   "source": [
    "# import download_datasets\n",
    "import FMOX_all4_json_to_CSV\n",
    "import access_json_bboxes\n",
    "import csv_to_graphics\n",
    "import size_label_count\n",
    "import efficientam_evaluation"
   ]
  },
  {
   "cell_type": "markdown",
   "id": "b757ab8e-1893-453f-aceb-5904caa42171",
   "metadata": {},
   "source": [
    "### Check if the dataset is not downloaded; if it is not, proceed to download it."
   ]
  },
  {
   "cell_type": "code",
   "execution_count": null,
   "id": "d0a8abab",
   "metadata": {
    "lines_to_next_cell": 2
   },
   "outputs": [],
   "source": [
    "script_name = 'download_datasets'\n",
    "# Define the path to the parent script\n",
    "script_path = os.path.abspath(os.path.join(os.path.dirname(__file__), '..', f'{script_name}.py'))\n",
    "# Check if the script exists\n",
    "if not os.path.isfile(script_path):\n",
    "    print(f\"Script not found: {script_path}\")\n",
    "else:\n",
    "    # Add the parent directory to the Python path\n",
    "    parent_dir = os.path.dirname(script_path)\n",
    "    sys.path.append(parent_dir)\n",
    "    try:\n",
    "        import download_datasets\n",
    "        print(\"Module imported successfully.\")\n",
    "    except ImportError as e:\n",
    "        print(f\"Error importing module: {e}\")"
   ]
  },
  {
   "cell_type": "code",
   "execution_count": null,
   "id": "9f9d16d9-e306-43bb-b3d5-deaba9b9494d",
   "metadata": {},
   "outputs": [],
   "source": [
    "\"\"\"Change \"FMOv2/FMOv2\" to \"FMOv2/imgs\" because other dataset has \"imgs\" - to run the code \"\"\"\n",
    "current_folder_name = \"../Original_Dataset/FMOv2/FMOv2\"\n",
    "new_folder_name = \"../Original_Dataset/FMOv2/imgs\"\n",
    "try:\n",
    "    os.rename(current_folder_name, new_folder_name)\n",
    "    print(f\"Folder renamed from '{current_folder_name}' to '{new_folder_name}'\")\n",
    "except FileNotFoundError:\n",
    "    print(f\"Error: The folder '{current_folder_name}' does not exist.\")\n",
    "except FileExistsError:\n",
    "    print(f\"Error: The folder '{new_folder_name}' already exists.\")\n",
    "except Exception as e:\n",
    "    print(f\"An error occurred: {e}\")"
   ]
  },
  {
   "cell_type": "markdown",
   "id": "87eec968-373e-485c-a047-a46ce69d4d07",
   "metadata": {},
   "source": [
    "### File Paths"
   ]
  },
  {
   "cell_type": "code",
   "execution_count": null,
   "id": "f53590b8-78e9-45d1-aa8f-c789c5bea5af",
   "metadata": {},
   "outputs": [],
   "source": [
    "data_folder = \"../Original_Dataset/\"\n",
    "fmox_json_path = \"../FMOX-Jsons/FMOX_All4.json\"  # fmox json annotations\n",
    "fmox_csv_path = \"./FMOX_All4_statistics.csv\"\n",
    "efficienttam_json_path = \"../EfficientTAM-Jsons/efficienttam_All4.json\"\n",
    "averageTIoU_path = \"./EfficientTAM_averageTIoU.csv\""
   ]
  },
  {
   "cell_type": "markdown",
   "id": "f7abed14-b16e-4818-82cb-f15de1cd308c",
   "metadata": {},
   "source": [
    "### Access Bounding Boxes from a JSON Annotation File"
   ]
  },
  {
   "cell_type": "code",
   "execution_count": null,
   "id": "6a9f06fc-c82d-4997-9f3a-6492589fccdd",
   "metadata": {},
   "outputs": [],
   "source": [
    "access_json_bboxes.access_bboxes(data_folder, fmox_json_path)"
   ]
  },
  {
   "cell_type": "markdown",
   "id": "c9689318-dea2-4cde-8f24-efcada4471b9",
   "metadata": {},
   "source": [
    "### Evaluate EfficientTAM JSON results with FMOX JSON"
   ]
  },
  {
   "cell_type": "code",
   "execution_count": null,
   "id": "854e71ef-e6f1-491a-a966-b275e4af3151",
   "metadata": {},
   "outputs": [],
   "source": [
    "efficientam_evaluation.evaluate_efficienttam(data_folder, fmox_json_path, efficienttam_json_path, averageTIoU_path)"
   ]
  },
  {
   "cell_type": "markdown",
   "id": "647a1a0a-70d1-4eaf-8c72-0c32b2daf9d9",
   "metadata": {},
   "source": [
    "### Create CSV from FMOX All4 JSON"
   ]
  },
  {
   "cell_type": "code",
   "execution_count": null,
   "id": "306f4f9c-03fd-4cee-b835-41f92088b329",
   "metadata": {},
   "outputs": [],
   "source": [
    "\"\"\" Create csv file to save information e.g. \"Main Dataset\", \"Subsequence\", \"Total Frame Number\",\n",
    "\"FMO Exists Frame Number\", \"Average Object Size\", \"Object Size Levels\" for table and graphs.\n",
    "Get the number of object levels for each sequence e.g. {’extremely_tiny’:1,’large’:2,’medium’: 22,’small’:5,’tiny’:8} \n",
    "Note: For tbd whole image sequence need to run releated json\"\"\"\n",
    "\n",
    "FMOX_all4_json_to_CSV.json_to_csv(fmox_json_path, fmox_csv_path)"
   ]
  },
  {
   "cell_type": "markdown",
   "id": "23bcaf6c-cba2-49a8-897c-cc6408076731",
   "metadata": {},
   "source": [
    "###  CSV to graphics: Bar plot, Scatter plot, Box plot etc."
   ]
  },
  {
   "cell_type": "code",
   "execution_count": null,
   "id": "1b4f70b2-47c2-47e0-982f-9159e4aad578",
   "metadata": {},
   "outputs": [],
   "source": [
    "\"\"\" Scatter plot for comparing \"Number of FMO exist frame\" vs. \"Number of total frame\" \"\"\"\n",
    "fmox_csv_data = pd.read_csv(fmox_csv_path)\n",
    "csv_to_graphics.cvs_viz2(fmox_csv_data)"
   ]
  },
  {
   "cell_type": "code",
   "execution_count": null,
   "id": "8cc0585e",
   "metadata": {},
   "outputs": [],
   "source": [
    "\"\"\"Stacked bar chart for visualization object size levels for each dataset and subsequences.\"\"\"\n",
    "fmox_csv_data = pd.read_csv(fmox_csv_path)\n",
    "csv_to_graphics.visualize_object_size_levels(fmox_csv_data)"
   ]
  },
  {
   "cell_type": "code",
   "execution_count": null,
   "id": "cff38762-61fd-4fb2-bd2f-c7a409a562ee",
   "metadata": {},
   "outputs": [],
   "source": []
  },
  {
   "cell_type": "code",
   "execution_count": null,
   "id": "1adc5bff-4bb2-4c02-9765-2869e521a7f7",
   "metadata": {},
   "outputs": [],
   "source": []
  }
 ],
 "metadata": {
  "jupytext": {
   "cell_metadata_filter": "-all",
   "main_language": "python",
   "notebook_metadata_filter": "-all"
  },
  "kernelspec": {
   "display_name": "Python 3 (ipykernel)",
   "language": "python",
   "name": "python3"
  },
  "language_info": {
   "codemirror_mode": {
    "name": "ipython",
    "version": 3
   },
   "file_extension": ".py",
   "mimetype": "text/x-python",
   "name": "python",
   "nbconvert_exporter": "python",
   "pygments_lexer": "ipython3",
   "version": "3.12.4"
  }
 },
 "nbformat": 4,
 "nbformat_minor": 5
}
